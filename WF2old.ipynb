{
 "cells": [
  {
   "cell_type": "code",
   "execution_count": 1,
   "metadata": {
    "colab": {
     "base_uri": "https://localhost:8080/"
    },
    "executionInfo": {
     "elapsed": 74334,
     "status": "ok",
     "timestamp": 1750672998320,
     "user": {
      "displayName": "Mario Balbi (Balbus)",
      "userId": "12014653000489538946"
     },
     "user_tz": -120
    },
    "id": "lhWwHvxbBBnj",
    "outputId": "5e50ac33-4b91-45a8-ecda-205701100f4b",
    "scrolled": true
   },
   "outputs": [],
   "source": [
    "# 1. Scarica il dataset da Google Drive\n",
    "#import gdown\n",
    "\n",
    "#url = \"https://drive.google.com/drive/folders/10QLYLC6jmjRiKngnwg9J2bgs4E4AjVmC?usp=drive_link\"\n",
    "#output_dir = \"./content/UWF-ZeekDataFall22\"\n",
    "\n",
    "#gdown.download_folder(url, output=output_dir, quiet=False)\n"
   ]
  },
  {
   "cell_type": "code",
   "execution_count": 2,
   "metadata": {
    "colab": {
     "base_uri": "https://localhost:8080/"
    },
    "executionInfo": {
     "elapsed": 15153,
     "status": "ok",
     "timestamp": 1750673039780,
     "user": {
      "displayName": "Mario Balbi (Balbus)",
      "userId": "12014653000489538946"
     },
     "user_tz": -120
    },
    "id": "dffyqWj9VQXR",
    "outputId": "100c3bf8-d156-419f-ea0a-6122455d8ef7"
   },
   "outputs": [
    {
     "name": "stdout",
     "output_type": "stream",
     "text": [
      "Defaulting to user installation because normal site-packages is not writeable\n",
      "Requirement already satisfied: pyspark in /home/jupyter-sdm/.local/lib/python3.10/site-packages (4.0.0)\n",
      "Requirement already satisfied: pyarrow in /home/jupyter-sdm/.local/lib/python3.10/site-packages (17.0.0)\n",
      "Requirement already satisfied: scikit-learn in /home/jupyter-sdm/.local/lib/python3.10/site-packages (1.5.2)\n",
      "Requirement already satisfied: shap in /home/jupyter-sdm/.local/lib/python3.10/site-packages (0.48.0)\n",
      "Requirement already satisfied: lime in /home/jupyter-sdm/.local/lib/python3.10/site-packages (0.2.0.1)\n",
      "Requirement already satisfied: matplotlib in /home/jupyter-sdm/.local/lib/python3.10/site-packages (3.9.2)\n",
      "Requirement already satisfied: seaborn in /home/jupyter-sdm/.local/lib/python3.10/site-packages (0.13.2)\n",
      "Requirement already satisfied: pandas in /home/jupyter-sdm/.local/lib/python3.10/site-packages (2.2.3)\n",
      "Requirement already satisfied: numpy in /home/jupyter-sdm/.local/lib/python3.10/site-packages (1.26.4)\n",
      "Requirement already satisfied: imbalanced-learn in /home/jupyter-sdm/.local/lib/python3.10/site-packages (0.13.0)\n",
      "Requirement already satisfied: py4j==0.10.9.9 in /home/jupyter-sdm/.local/lib/python3.10/site-packages (from pyspark) (0.10.9.9)\n",
      "Requirement already satisfied: scipy>=1.6.0 in /home/jupyter-sdm/.local/lib/python3.10/site-packages (from scikit-learn) (1.15.3)\n",
      "Requirement already satisfied: joblib>=1.2.0 in /home/jupyter-sdm/.local/lib/python3.10/site-packages (from scikit-learn) (1.4.2)\n",
      "Requirement already satisfied: threadpoolctl>=3.1.0 in /home/jupyter-sdm/.local/lib/python3.10/site-packages (from scikit-learn) (3.5.0)\n",
      "Requirement already satisfied: tqdm>=4.27.0 in /home/jupyter-sdm/.local/lib/python3.10/site-packages (from shap) (4.66.5)\n",
      "Requirement already satisfied: packaging>20.9 in /opt/tljh/user/lib/python3.10/site-packages (from shap) (24.1)\n",
      "Requirement already satisfied: slicer==0.0.8 in /home/jupyter-sdm/.local/lib/python3.10/site-packages (from shap) (0.0.8)\n",
      "Requirement already satisfied: numba>=0.54 in /home/jupyter-sdm/.local/lib/python3.10/site-packages (from shap) (0.61.2)\n",
      "Requirement already satisfied: cloudpickle in /home/jupyter-sdm/.local/lib/python3.10/site-packages (from shap) (3.1.1)\n",
      "Requirement already satisfied: typing-extensions in /opt/tljh/user/lib/python3.10/site-packages (from shap) (4.12.2)\n",
      "Requirement already satisfied: scikit-image>=0.12 in /home/jupyter-sdm/.local/lib/python3.10/site-packages (from lime) (0.25.2)\n",
      "Requirement already satisfied: contourpy>=1.0.1 in /home/jupyter-sdm/.local/lib/python3.10/site-packages (from matplotlib) (1.3.0)\n",
      "Requirement already satisfied: cycler>=0.10 in /home/jupyter-sdm/.local/lib/python3.10/site-packages (from matplotlib) (0.12.1)\n",
      "Requirement already satisfied: fonttools>=4.22.0 in /home/jupyter-sdm/.local/lib/python3.10/site-packages (from matplotlib) (4.54.1)\n",
      "Requirement already satisfied: kiwisolver>=1.3.1 in /home/jupyter-sdm/.local/lib/python3.10/site-packages (from matplotlib) (1.4.7)\n",
      "Requirement already satisfied: pillow>=8 in /home/jupyter-sdm/.local/lib/python3.10/site-packages (from matplotlib) (10.4.0)\n",
      "Requirement already satisfied: pyparsing>=2.3.1 in /home/jupyter-sdm/.local/lib/python3.10/site-packages (from matplotlib) (3.1.4)\n",
      "Requirement already satisfied: python-dateutil>=2.7 in /opt/tljh/user/lib/python3.10/site-packages (from matplotlib) (2.9.0.post0)\n",
      "Requirement already satisfied: pytz>=2020.1 in /home/jupyter-sdm/.local/lib/python3.10/site-packages (from pandas) (2024.2)\n",
      "Requirement already satisfied: tzdata>=2022.7 in /home/jupyter-sdm/.local/lib/python3.10/site-packages (from pandas) (2024.2)\n",
      "Requirement already satisfied: sklearn-compat<1,>=0.1 in /home/jupyter-sdm/.local/lib/python3.10/site-packages (from imbalanced-learn) (0.1.3)\n",
      "Requirement already satisfied: llvmlite<0.45,>=0.44.0dev0 in /home/jupyter-sdm/.local/lib/python3.10/site-packages (from numba>=0.54->shap) (0.44.0)\n",
      "Requirement already satisfied: six>=1.5 in /opt/tljh/user/lib/python3.10/site-packages (from python-dateutil>=2.7->matplotlib) (1.16.0)\n",
      "Requirement already satisfied: networkx>=3.0 in /home/jupyter-sdm/.local/lib/python3.10/site-packages (from scikit-image>=0.12->lime) (3.3)\n",
      "Requirement already satisfied: imageio!=2.35.0,>=2.33 in /home/jupyter-sdm/.local/lib/python3.10/site-packages (from scikit-image>=0.12->lime) (2.37.0)\n",
      "Requirement already satisfied: tifffile>=2022.8.12 in /home/jupyter-sdm/.local/lib/python3.10/site-packages (from scikit-image>=0.12->lime) (2025.5.10)\n",
      "Requirement already satisfied: lazy-loader>=0.4 in /home/jupyter-sdm/.local/lib/python3.10/site-packages (from scikit-image>=0.12->lime) (0.4)\n"
     ]
    }
   ],
   "source": [
    "# 2. Installa librerie necessarie\n",
    "!pip install pyspark pyarrow scikit-learn shap lime matplotlib seaborn pandas numpy imbalanced-learn"
   ]
  },
  {
   "cell_type": "code",
   "execution_count": 3,
   "metadata": {
    "id": "fe18_hgRVVPf"
   },
   "outputs": [
    {
     "name": "stderr",
     "output_type": "stream",
     "text": [
      "WARNING: Using incubator modules: jdk.incubator.vector\n",
      "Using Spark's default log4j profile: org/apache/spark/log4j2-defaults.properties\n",
      "25/06/23 15:17:49 WARN Utils: Your hostname, sdm, resolves to a loopback address: 127.0.1.1; using 172.16.228.232 instead (on interface ens3)\n",
      "25/06/23 15:17:49 WARN Utils: Set SPARK_LOCAL_IP if you need to bind to another address\n",
      "Using Spark's default log4j profile: org/apache/spark/log4j2-defaults.properties\n",
      "Setting default log level to \"WARN\".\n",
      "To adjust logging level use sc.setLogLevel(newLevel). For SparkR, use setLogLevel(newLevel).\n",
      "25/06/23 15:17:49 WARN NativeCodeLoader: Unable to load native-hadoop library for your platform... using builtin-java classes where applicable\n"
     ]
    }
   ],
   "source": [
    "# 3. Configura Spark per leggere Parquet\n",
    "from pyspark.sql import SparkSession\n",
    "\n",
    "spark = SparkSession.builder \\\n",
    "    .appName(\"UWFZeekXAI\") \\\n",
    "    .config(\"spark.sql.parquet.enableVectorizedReader\", \"false\") \\\n",
    "    .getOrCreate()"
   ]
  },
  {
   "cell_type": "code",
   "execution_count": 4,
   "metadata": {
    "colab": {
     "base_uri": "https://localhost:8080/"
    },
    "executionInfo": {
     "elapsed": 46308,
     "status": "ok",
     "timestamp": 1750673120029,
     "user": {
      "displayName": "Mario Balbi (Balbus)",
      "userId": "12014653000489538946"
     },
     "user_tz": -120
    },
    "id": "Df4wRUYtVWq6",
    "outputId": "21b09c10-3272-4fcd-f011-d9351f665add"
   },
   "outputs": [
    {
     "name": "stderr",
     "output_type": "stream",
     "text": [
      "                                                                                \r"
     ]
    },
    {
     "name": "stdout",
     "output_type": "stream",
     "text": [
      "  label_binary   count\n",
      "0         True  346933\n",
      "1        False  350339\n",
      "2    Duplicate    3068\n"
     ]
    },
    {
     "name": "stderr",
     "output_type": "stream",
     "text": [
      "                                                                                \r"
     ]
    },
    {
     "name": "stdout",
     "output_type": "stream",
     "text": [
      "Shape: (700340, 12)\n",
      "label_binary\n",
      "False        350339\n",
      "True         346933\n",
      "Duplicate      3068\n",
      "Name: count, dtype: int64\n"
     ]
    }
   ],
   "source": [
    "# 📁 4. Carica i file Parquet tranne quelli delle metriche\n",
    "import glob\n",
    "\n",
    "parquet_files = glob.glob(\"./content/UWF-ZeekDataFall22/parquet/2021*/*.snappy.parquet\")\n",
    "parquet_files += glob.glob(\"./content/UWF-ZeekDataFall22/parquet/2022*/*.snappy.parquet\")\n",
    "parquet_files = [f for f in parquet_files if \"_parquet_\" not in f]\n",
    "\n",
    "# 📊 Carica il dataset in un DataFrame Spark\n",
    "df_spark = spark.read.parquet(*parquet_files)\n",
    "df_spark.createOrReplaceTempView(\"zeek_data\")\n",
    "\n",
    "print(df_spark.groupBy(\"label_binary\").count().toPandas())\n",
    "\n",
    "# 🚨 Filtra solo le tattiche MITRE ATT&CK di interesse\n",
    "filtered_df = spark.sql(\"\"\"\n",
    "SELECT\n",
    "  orig_pkts, resp_pkts, orig_bytes, resp_bytes, duration,\n",
    "  proto, service, conn_state, history,\n",
    "  label_binary, label_tactic, label_technique\n",
    "FROM zeek_data\n",
    "\"\"\")\n",
    "# 📥 Scarica in Pandas per analisi locale\n",
    "df_pandas = filtered_df.toPandas()\n",
    "print(\"Shape:\", df_pandas.shape)\n",
    "df_pandas.head()\n",
    "\n",
    "print(df_pandas['label_binary'].value_counts())"
   ]
  },
  {
   "cell_type": "code",
   "execution_count": 5,
   "metadata": {
    "id": "DRA2XSDgVXVs"
   },
   "outputs": [],
   "source": [
    "# 🧮 5. Calcolo feature derivate utili\n",
    "def safe_div(x, y):\n",
    "    return x / y.replace(0, 1).astype(float)\n",
    "\n",
    "df_pandas['pktAtsec'] = safe_div(df_pandas['orig_pkts'], df_pandas['duration'])\n",
    "df_pandas['BitRate'] = safe_div((df_pandas['orig_bytes'] + df_pandas['resp_bytes']) * 8, df_pandas['duration'])\n",
    "df_pandas['interTime'] = safe_div(df_pandas['duration'], df_pandas['orig_pkts'])\n",
    "df_pandas['avgLenPkt'] = safe_div(df_pandas['orig_bytes'], df_pandas['orig_pkts'])\n",
    "\n",
    "# 📈 Aggiungi feature aggregate\n",
    "df_pandas['numPKT'] = df_pandas['orig_pkts'] + df_pandas['resp_pkts']\n",
    "df_pandas['numBytes'] = df_pandas['orig_bytes'] + df_pandas['resp_bytes']"
   ]
  },
  {
   "cell_type": "code",
   "execution_count": 6,
   "metadata": {
    "id": "XbooN_2JVZCX"
   },
   "outputs": [],
   "source": [
    "# 🧹 6. Preprocessing avanzato con One-Hot Encoding e Standardizzazione\n",
    "from sklearn.compose import ColumnTransformer\n",
    "from sklearn.pipeline import Pipeline\n",
    "from sklearn.preprocessing import StandardScaler, OneHotEncoder\n",
    "from sklearn.impute import SimpleImputer\n",
    "\n",
    "continuous_features = ['orig_pkts', 'resp_pkts', 'orig_bytes', 'resp_bytes', 'duration', 'pktAtsec', 'BitRate', 'interTime', 'avgLenPkt']\n",
    "categorical_features = ['proto', 'service', 'conn_state']\n",
    "\n",
    "preprocessor = ColumnTransformer([\n",
    "    ('num', Pipeline([\n",
    "        ('imputer', SimpleImputer(strategy='mean')),          # Imputation per numeriche\n",
    "        ('scaler', StandardScaler())\n",
    "    ]), continuous_features),\n",
    "    ('cat', Pipeline([\n",
    "        ('imputer', SimpleImputer(strategy='most_frequent')), # Imputation per categoriche\n",
    "        ('ohe', OneHotEncoder(handle_unknown='ignore'))\n",
    "    ]), categorical_features)\n",
    "])"
   ]
  },
  {
   "cell_type": "code",
   "execution_count": 7,
   "metadata": {
    "colab": {
     "base_uri": "https://localhost:8080/"
    },
    "executionInfo": {
     "elapsed": 5746,
     "status": "ok",
     "timestamp": 1750673227277,
     "user": {
      "displayName": "Mario Balbi (Balbus)",
      "userId": "12014653000489538946"
     },
     "user_tz": -120
    },
    "id": "ooZGrGvbNhlL",
    "outputId": "33937427-ab4d-4176-97bb-4f6f7c3b1e7b"
   },
   "outputs": [
    {
     "name": "stderr",
     "output_type": "stream",
     "text": [
      "/tmp/ipykernel_640177/4024819625.py:7: FutureWarning: Downcasting behavior in `replace` is deprecated and will be removed in a future version. To retain the old behavior, explicitly call `result.infer_objects(copy=False)`. To opt-in to the future behavior, set `pd.set_option('future.no_silent_downcasting', True)`\n",
      "  y_binary = df_pandas['label_binary'].replace({\"True\": 1, \"False\": 0, \"Duplicate\": 1}).astype(int)\n"
     ]
    },
    {
     "name": "stdout",
     "output_type": "stream",
     "text": [
      "Train set: [280271 280001]\n",
      "Test set: [70068 70000]\n",
      "[0 1]\n"
     ]
    }
   ],
   "source": [
    "# 🎯 7. Encoding etichette\n",
    "from sklearn.preprocessing import LabelEncoder\n",
    "from sklearn.model_selection import train_test_split\n",
    "import numpy as np\n",
    "\n",
    "# Y binario (gestione stringhe e numeri)\n",
    "y_binary = df_pandas['label_binary'].replace({\"True\": 1, \"False\": 0, \"Duplicate\": 1}).astype(int)\n",
    "# Y multiclasse\n",
    "tactic_encoder = LabelEncoder()\n",
    "y_tactic = tactic_encoder.fit_transform(df_pandas['label_tactic'].astype(str))\n",
    "\n",
    "# 📊 8. Suddivisione train/test UNA SOLA VOLTA per tutto!\n",
    "X_train, X_test, y_binary_train, y_binary_test, y_tactic_train, y_tactic_test = train_test_split(\n",
    "    df_pandas[continuous_features + categorical_features], y_binary, y_tactic, test_size=0.2, stratify=y_binary, random_state=42\n",
    ")\n",
    "\n",
    "print(\"Train set:\", np.bincount(y_binary_train))\n",
    "print(\"Test set:\", np.bincount(y_binary_test))\n",
    "print(np.unique(y_binary_train))\n",
    "\n",
    "# 🧠 9. Applica il preprocessor ai dati train/test\n",
    "X_train_processed = preprocessor.fit_transform(X_train)\n",
    "X_test_processed = preprocessor.transform(X_test)\n",
    "\n",
    "# 🏷️ 10. Ricava i nomi delle feature dopo OHE (usato in XAI)\n",
    "processed_cat_features = preprocessor.named_transformers_['cat']['ohe'].get_feature_names_out(categorical_features)\n",
    "all_feature_names = continuous_features + list(processed_cat_features)\n"
   ]
  },
  {
   "cell_type": "code",
   "execution_count": 8,
   "metadata": {
    "colab": {
     "base_uri": "https://localhost:8080/"
    },
    "executionInfo": {
     "elapsed": 87074,
     "status": "ok",
     "timestamp": 1750673317147,
     "user": {
      "displayName": "Mario Balbi (Balbus)",
      "userId": "12014653000489538946"
     },
     "user_tz": -120
    },
    "id": "0ypT5gRrVbIo",
    "outputId": "5866db7e-b4e9-4aef-eb19-3c764cfcb5dd"
   },
   "outputs": [
    {
     "name": "stdout",
     "output_type": "stream",
     "text": [
      "[✅] Random Forest addestrato per classificazione binaria\n",
      "[✅] Decision Tree addestrato per classificazione binaria\n",
      "[✅] Logistic Regression addestrato per classificazione binaria\n",
      "[✅] Naive Bayes addestrato per classificazione binaria\n"
     ]
    }
   ],
   "source": [
    "# 🌲 11. Addestramento modelli interpretabili\n",
    "from sklearn.ensemble import RandomForestClassifier\n",
    "from sklearn.tree import DecisionTreeClassifier\n",
    "from sklearn.linear_model import LogisticRegression\n",
    "from sklearn.naive_bayes import GaussianNB\n",
    "\n",
    "models = {\n",
    "    \"Random Forest\": RandomForestClassifier(class_weight='balanced'),\n",
    "    \"Decision Tree\": DecisionTreeClassifier(max_depth=5),\n",
    "    \"Logistic Regression\": LogisticRegression(max_iter=1000, class_weight='balanced'),\n",
    "    \"Naive Bayes\": GaussianNB()\n",
    "}\n",
    "\n",
    "# 🧪 12. Addestra e stampa stato\n",
    "for name, model in models.items():\n",
    "    try:\n",
    "        model.fit(X_train_processed, y_binary_train)\n",
    "        print(f\"[✅] {name} addestrato per classificazione binaria\")\n",
    "    except Exception as e:\n",
    "        print(f\"[❌] Errore nel training {name}: {e}\")"
   ]
  },
  {
   "cell_type": "code",
   "execution_count": 9,
   "metadata": {
    "colab": {
     "base_uri": "https://localhost:8080/"
    },
    "executionInfo": {
     "elapsed": 1282,
     "status": "ok",
     "timestamp": 1750673336290,
     "user": {
      "displayName": "Mario Balbi (Balbus)",
      "userId": "12014653000489538946"
     },
     "user_tz": -120
    },
    "id": "y6ghcYqzVcSX",
    "outputId": "0cab768b-05ee-4ad7-a7da-18f98139fade"
   },
   "outputs": [
    {
     "name": "stdout",
     "output_type": "stream",
     "text": [
      "\n",
      "📌 Random Forest - Binary Classification Report\n",
      "              precision    recall  f1-score   support\n",
      "\n",
      "           0       1.00      0.98      0.99     70068\n",
      "           1       0.98      1.00      0.99     70000\n",
      "\n",
      "    accuracy                           0.99    140068\n",
      "   macro avg       0.99      0.99      0.99    140068\n",
      "weighted avg       0.99      0.99      0.99    140068\n",
      "\n",
      "\n",
      "📌 Decision Tree - Binary Classification Report\n",
      "              precision    recall  f1-score   support\n",
      "\n",
      "           0       1.00      0.98      0.99     70068\n",
      "           1       0.98      1.00      0.99     70000\n",
      "\n",
      "    accuracy                           0.99    140068\n",
      "   macro avg       0.99      0.99      0.99    140068\n",
      "weighted avg       0.99      0.99      0.99    140068\n",
      "\n",
      "\n",
      "📌 Logistic Regression - Binary Classification Report\n",
      "              precision    recall  f1-score   support\n",
      "\n",
      "           0       0.99      0.95      0.97     70068\n",
      "           1       0.95      0.99      0.97     70000\n",
      "\n",
      "    accuracy                           0.97    140068\n",
      "   macro avg       0.97      0.97      0.97    140068\n",
      "weighted avg       0.97      0.97      0.97    140068\n",
      "\n",
      "\n",
      "📌 Naive Bayes - Binary Classification Report\n",
      "              precision    recall  f1-score   support\n",
      "\n",
      "           0       0.87      0.97      0.92     70068\n",
      "           1       0.96      0.86      0.91     70000\n",
      "\n",
      "    accuracy                           0.91    140068\n",
      "   macro avg       0.92      0.91      0.91    140068\n",
      "weighted avg       0.92      0.91      0.91    140068\n",
      "\n"
     ]
    }
   ],
   "source": [
    "# 📊 13. Valutazione dei modelli binari\n",
    "from sklearn.metrics import classification_report\n",
    "\n",
    "results_binary = {}\n",
    "for name, model in models.items():\n",
    "    try:\n",
    "        y_pred = model.predict(X_test_processed)\n",
    "        results_binary[name] = classification_report(y_binary_test, y_pred, output_dict=True)\n",
    "        print(f\"\\n📌 {name} - Binary Classification Report\")\n",
    "        print(classification_report(y_binary_test, y_pred))\n",
    "    except Exception as e:\n",
    "        print(f\"[❌] {name} fallito nella valutazione: {e}\")\n"
   ]
  },
  {
   "cell_type": "code",
   "execution_count": 10,
   "metadata": {
    "colab": {
     "base_uri": "https://localhost:8080/"
    },
    "executionInfo": {
     "elapsed": 1916496,
     "status": "ok",
     "timestamp": 1750675257387,
     "user": {
      "displayName": "Mario Balbi (Balbus)",
      "userId": "12014653000489538946"
     },
     "user_tz": -120
    },
    "id": "j2mSlIoBVdM3",
    "outputId": "df29c903-4401-489b-e7b1-b1a491a2fe78"
   },
   "outputs": [
    {
     "name": "stdout",
     "output_type": "stream",
     "text": [
      "\n",
      "📌 Random Forest - MITRE ATT&CK Tactics\n",
      "                      precision    recall  f1-score   support\n",
      "\n",
      "          Collection       0.00      0.00      0.00         0\n",
      " Command and Control       1.00      0.40      0.57         5\n",
      "   Credential Access       0.00      0.00      0.00         0\n",
      "     Defense Evasion       0.04      0.08      0.05       596\n",
      "           Discovery       0.57      1.00      0.73      3442\n",
      "           Execution       0.00      0.00      0.00         4\n",
      "      Initial Access       0.00      0.00      0.00         1\n",
      "    Lateral Movement       0.33      0.25      0.29         4\n",
      "         Persistence       1.00      1.00      1.00         1\n",
      "Privilege Escalation       0.04      0.08      0.05       613\n",
      "      Reconnaissance       0.96      0.68      0.80     10335\n",
      "Resource Development       0.99      1.00      0.99     54999\n",
      "                none       1.00      0.98      0.99     70068\n",
      "\n",
      "            accuracy                           0.96    140068\n",
      "           macro avg       0.46      0.42      0.42    140068\n",
      "        weighted avg       0.97      0.96      0.96    140068\n",
      "\n",
      "\n",
      "📌 Decision Tree - MITRE ATT&CK Tactics\n",
      "                      precision    recall  f1-score   support\n",
      "\n",
      "          Collection       0.00      0.00      0.00         0\n",
      " Command and Control       0.00      0.00      0.00         5\n",
      "   Credential Access       0.00      0.00      0.00         0\n",
      "     Defense Evasion       0.00      0.00      0.00       596\n",
      "           Discovery       0.72      0.88      0.79      3442\n",
      "           Execution       0.00      0.00      0.00         4\n",
      "      Initial Access       0.00      0.00      0.00         1\n",
      "    Lateral Movement       0.00      0.00      0.00         4\n",
      "         Persistence       0.00      0.00      0.00         1\n",
      "Privilege Escalation       0.00      0.00      0.00       613\n",
      "      Reconnaissance       0.81      0.91      0.86     10335\n",
      "Resource Development       0.99      1.00      0.99     54999\n",
      "                none       1.00      0.98      0.99     70068\n",
      "\n",
      "            accuracy                           0.97    140068\n",
      "           macro avg       0.27      0.29      0.28    140068\n",
      "        weighted avg       0.97      0.97      0.97    140068\n",
      "\n",
      "\n",
      "📌 Naive Bayes - MITRE ATT&CK Tactics\n",
      "                      precision    recall  f1-score   support\n",
      "\n",
      "          Collection       0.00      0.00      0.00         0\n",
      " Command and Control       0.00      0.20      0.00         5\n",
      "   Credential Access       0.00      0.00      0.00         0\n",
      "     Defense Evasion       0.04      0.99      0.08       596\n",
      "           Discovery       0.57      1.00      0.73      3442\n",
      "           Execution       0.01      0.25      0.02         4\n",
      "      Initial Access       0.00      0.00      0.00         1\n",
      "    Lateral Movement       0.07      0.75      0.12         4\n",
      "         Persistence       0.02      1.00      0.04         1\n",
      "Privilege Escalation       0.04      0.01      0.02       613\n",
      "      Reconnaissance       0.01      0.00      0.00     10335\n",
      "Resource Development       0.00      0.00      0.00     54999\n",
      "                none       0.99      0.88      0.94     70068\n",
      "\n",
      "            accuracy                           0.47    140068\n",
      "           macro avg       0.14      0.39      0.15    140068\n",
      "        weighted avg       0.51      0.47      0.49    140068\n",
      "\n",
      "\n",
      "📌 Logistic Regression - MITRE ATT&CK Tactics\n",
      "                      precision    recall  f1-score   support\n",
      "\n",
      "          Collection       0.00      0.00      0.00         0\n",
      " Command and Control       0.01      0.60      0.02         5\n",
      "   Credential Access       0.00      0.00      0.00         0\n",
      "     Defense Evasion       0.07      0.36      0.11       596\n",
      "           Discovery       0.57      1.00      0.73      3442\n",
      "           Execution       0.00      0.50      0.01         4\n",
      "      Initial Access       0.00      0.00      0.00         1\n",
      "    Lateral Movement       0.19      0.75      0.30         4\n",
      "         Persistence       0.01      1.00      0.01         1\n",
      "Privilege Escalation       0.08      0.43      0.13       613\n",
      "      Reconnaissance       0.61      0.28      0.38     10335\n",
      "Resource Development       0.99      1.00      0.99     54999\n",
      "                none       0.99      0.93      0.96     70068\n",
      "\n",
      "            accuracy                           0.90    140068\n",
      "           macro avg       0.27      0.53      0.28    140068\n",
      "        weighted avg       0.95      0.90      0.92    140068\n",
      "\n"
     ]
    },
    {
     "name": "stderr",
     "output_type": "stream",
     "text": [
      "/home/jupyter-sdm/.local/lib/python3.10/site-packages/sklearn/linear_model/_sag.py:349: ConvergenceWarning: The max_iter was reached which means the coef_ did not converge\n",
      "  warnings.warn(\n"
     ]
    }
   ],
   "source": [
    "# 🧩 14. Classificazione multiclasse (MITRE ATT&CK)\n",
    "multi_models = {\n",
    "    \"Random Forest\": RandomForestClassifier(class_weight='balanced'),\n",
    "    \"Decision Tree\": DecisionTreeClassifier(max_depth=5),\n",
    "    \"Naive Bayes\": GaussianNB(),\n",
    "    \"Logistic Regression\": LogisticRegression(max_iter=1000, solver='saga', class_weight='balanced', n_jobs=-1, random_state=42)\n",
    "}\n",
    "\n",
    "results_tactic = {}\n",
    "\n",
    "for name, model in multi_models.items():\n",
    "    try:\n",
    "        model.fit(X_train_processed, y_tactic_train)\n",
    "        y_tactic_pred = model.predict(X_test_processed)\n",
    "        results_tactic[name] = classification_report(\n",
    "            y_tactic_test, y_tactic_pred,\n",
    "            labels=list(range(len(tactic_encoder.classes_))),   # << questa riga risolve\n",
    "            target_names=tactic_encoder.classes_,\n",
    "            zero_division=0\n",
    "        )\n",
    "        print(f\"\\n📌 {name} - MITRE ATT&CK Tactics\")\n",
    "        print(results_tactic[name])\n",
    "    except Exception as e:\n",
    "        print(f\"[❌] {name} fallito nella classificazione gerarchica: {e}\")\n",
    "\n"
   ]
  },
  {
   "cell_type": "code",
   "execution_count": 11,
   "metadata": {
    "colab": {
     "base_uri": "https://localhost:8080/",
     "height": 1000
    },
    "editable": true,
    "executionInfo": {
     "elapsed": 1875520,
     "status": "error",
     "timestamp": 1750678447686,
     "user": {
      "displayName": "Mario Balbi (Balbus)",
      "userId": "12014653000489538946"
     },
     "user_tz": -120
    },
    "id": "0s5hRw4UVekY",
    "outputId": "fc44c564-3729-455a-e3f6-1673cc9c2d51",
    "slideshow": {
     "slide_type": ""
    },
    "tags": []
   },
   "outputs": [
    {
     "name": "stdout",
     "output_type": "stream",
     "text": [
      "Classi in test: (array([ 1,  3,  4,  5,  6,  7,  8,  9, 10, 11, 12]), array([    5,   596,  3442,     4,     1,     4,     1,   613, 10335,\n",
      "       54999, 70068]))\n",
      "Classi totali (dall'encoder): ['Collection' 'Command and Control' 'Credential Access' 'Defense Evasion'\n",
      " 'Discovery' 'Execution' 'Initial Access' 'Lateral Movement' 'Persistence'\n",
      " 'Privilege Escalation' 'Reconnaissance' 'Resource Development' 'none']\n",
      "Classi nel train: [ 0  1  2  3  4  5  6  7  8  9 10 11 12]\n",
      "Classi nel test: [ 1  3  4  5  6  7  8  9 10 11 12]\n",
      "Classi previste: [ 0  1  2  3  4  5  6  7  8  9 10 11 12]\n",
      "📌 SHAP - Random Forest (modello singolo)\n"
     ]
    },
    {
     "data": {
      "image/png": "[encoded data removed]",
      "text/plain": [
       "<Figure size 1150x660 with 2 Axes>"
      ]
     },
     "metadata": {},
     "output_type": "display_data"
    },
    {
     "data": {
      "image/png": "[encoded data removed]",
      "text/plain": [
       "<Figure size 640x480 with 1 Axes>"
      ]
     },
     "metadata": {},
     "output_type": "display_data"
    },
    {
     "name": "stdout",
     "output_type": "stream",
     "text": [
      "Shape SHAP values (DT): (140068, 40, 2)\n",
      "\n",
      "📌 SHAP - Decision Tree (modello singolo)\n"
     ]
    },
    {
     "ename": "AssertionError",
     "evalue": "The shape of the shap_values matrix does not match the shape of the provided data matrix.",
     "output_type": "error",
     "traceback": [
      "\u001b[0;31m---------------------------------------------------------------------------\u001b[0m",
      "\u001b[0;31mAssertionError\u001b[0m                            Traceback (most recent call last)",
      "Cell \u001b[0;32mIn[11], line 37\u001b[0m\n\u001b[1;32m     35\u001b[0m \u001b[38;5;28;01melse\u001b[39;00m:\n\u001b[1;32m     36\u001b[0m     \u001b[38;5;28mprint\u001b[39m(\u001b[38;5;124m\"\u001b[39m\u001b[38;5;130;01m\\n\u001b[39;00m\u001b[38;5;124m📌 SHAP - Decision Tree (modello singolo)\u001b[39m\u001b[38;5;124m\"\u001b[39m)\n\u001b[0;32m---> 37\u001b[0m     \u001b[43mshap\u001b[49m\u001b[38;5;241;43m.\u001b[39;49m\u001b[43msummary_plot\u001b[49m\u001b[43m(\u001b[49m\u001b[43mtree_shap_values\u001b[49m\u001b[43m,\u001b[49m\u001b[43m \u001b[49m\u001b[43mX_test\u001b[49m\u001b[43m,\u001b[49m\u001b[43m \u001b[49m\u001b[43mfeature_names\u001b[49m\u001b[38;5;241;43m=\u001b[39;49m\u001b[43mall_feature_names\u001b[49m\u001b[43m,\u001b[49m\u001b[43m \u001b[49m\u001b[43mplot_type\u001b[49m\u001b[38;5;241;43m=\u001b[39;49m\u001b[38;5;124;43m\"\u001b[39;49m\u001b[38;5;124;43mbar\u001b[39;49m\u001b[38;5;124;43m\"\u001b[39;49m\u001b[43m)\u001b[49m\n\u001b[1;32m     38\u001b[0m     plt\u001b[38;5;241m.\u001b[39mtitle(\u001b[38;5;124m\"\u001b[39m\u001b[38;5;124mSHAP - Decision Tree (Modello singolo)\u001b[39m\u001b[38;5;124m\"\u001b[39m)\n\u001b[1;32m     39\u001b[0m plt\u001b[38;5;241m.\u001b[39mshow()\n",
      "File \u001b[0;32m~/.local/lib/python3.10/site-packages/shap/plots/_beeswarm.py:664\u001b[0m, in \u001b[0;36msummary_legacy\u001b[0;34m(shap_values, features, feature_names, max_display, plot_type, color, axis_color, title, alpha, show, sort, color_bar, plot_size, layered_violin_max_num_bins, class_names, class_inds, color_bar_label, cmap, show_values_in_legend, use_log_scale, rng)\u001b[0m\n\u001b[1;32m    659\u001b[0m         \u001b[38;5;28;01mraise\u001b[39;00m \u001b[38;5;167;01mValueError\u001b[39;00m(\n\u001b[1;32m    660\u001b[0m             shape_msg \u001b[38;5;241m+\u001b[39m \u001b[38;5;124m\"\u001b[39m\u001b[38;5;124m Perhaps the extra column in the shap_values matrix is the \u001b[39m\u001b[38;5;124m\"\u001b[39m\n\u001b[1;32m    661\u001b[0m             \u001b[38;5;124m\"\u001b[39m\u001b[38;5;124mconstant offset? Of so just pass shap_values[:,:-1].\u001b[39m\u001b[38;5;124m\"\u001b[39m\n\u001b[1;32m    662\u001b[0m         )\n\u001b[1;32m    663\u001b[0m     \u001b[38;5;28;01melse\u001b[39;00m:\n\u001b[0;32m--> 664\u001b[0m         \u001b[38;5;28;01massert\u001b[39;00m num_features \u001b[38;5;241m==\u001b[39m features\u001b[38;5;241m.\u001b[39mshape[\u001b[38;5;241m1\u001b[39m], shape_msg\n\u001b[1;32m    666\u001b[0m \u001b[38;5;28;01mif\u001b[39;00m feature_names \u001b[38;5;129;01mis\u001b[39;00m \u001b[38;5;28;01mNone\u001b[39;00m:\n\u001b[1;32m    667\u001b[0m     feature_names \u001b[38;5;241m=\u001b[39m np\u001b[38;5;241m.\u001b[39marray([labels[\u001b[38;5;124m\"\u001b[39m\u001b[38;5;124mFEATURE\u001b[39m\u001b[38;5;124m\"\u001b[39m] \u001b[38;5;241m%\u001b[39m \u001b[38;5;28mstr\u001b[39m(i) \u001b[38;5;28;01mfor\u001b[39;00m i \u001b[38;5;129;01min\u001b[39;00m \u001b[38;5;28mrange\u001b[39m(num_features)])\n",
      "\u001b[0;31mAssertionError\u001b[0m: The shape of the shap_values matrix does not match the shape of the provided data matrix."
     ]
    }
   ],
   "source": [
    "# 💡 15. SHAP per Random Forest\n",
    "import shap\n",
    "import matplotlib.pyplot as plt\n",
    "\n",
    "print(\"Classi in test:\", np.unique(y_tactic_test, return_counts=True))\n",
    "print(\"Classi totali (dall'encoder):\", tactic_encoder.classes_)\n",
    "print(\"Classi nel train:\", np.unique(y_tactic_train))\n",
    "print(\"Classi nel test:\", np.unique(y_tactic_test))\n",
    "print(\"Classi previste:\", np.unique(y_tactic_pred))\n",
    "\n",
    "\n",
    "rf_explainer = shap.TreeExplainer(models[\"Random Forest\"])\n",
    "rf_shap_values = rf_explainer.shap_values(X_test_processed)\n",
    "\n",
    "if len(rf_shap_values) == 2:\n",
    "    print(\"📌 SHAP - Random Forest (classe malevola)\")\n",
    "    shap_interaction_values = shap.TreeExplainer(model).shap_interaction_values(X_test_processed)\n",
    "    shap.summary_plot(shap_interaction_values, X_test_processed[:1000], feature_names=all_feature_names)\n",
    "    #shap.summary_plot(rf_shap_values[1], X_test_processed, feature_names=all_feature_names, plot_type=\"bar\")\n",
    "    plt.title(\"SHAP - Random Forest (Malevolo)\")\n",
    "else:\n",
    "    print(\"📌 SHAP - Random Forest (modello singolo)\")\n",
    "    shap.summary_plot(rf_shap_values, X_test_processed, feature_names=all_feature_names, plot_type=\"bar\")\n",
    "    plt.title(\"SHAP - Random Forest (Modello singolo)\")\n",
    "plt.show()\n"
   ]
  },
  {
   "cell_type": "code",
   "execution_count": null,
   "metadata": {},
   "outputs": [],
   "source": [
    "# 🧠 SHAP per Decision Tree\n",
    "tree_explainer = shap.TreeExplainer(models[\"Decision Tree\"])\n",
    "tree_shap_values = tree_explainer.shap_values(X_test_processed)\n",
    "\n",
    "print(\"Shape SHAP values (DT):\", np.array(tree_shap_values).shape)\n",
    "\n",
    "if len(tree_shap_values) == 2:\n",
    "    print(\"\\n📌 SHAP - Decision Tree (classe malevola)\")\n",
    "    shap.summary_plot(tree_shap_values[1], X_test, feature_names=all_feature_names, plot_type=\"bar\")\n",
    "    plt.title(\"SHAP - Decision Tree (Malevolo)\")\n",
    "else:\n",
    "    print(\"\\n📌 SHAP - Decision Tree (modello singolo)\")\n",
    "    shap.summary_plot(tree_shap_values, X_test, feature_names=all_feature_names, plot_type=\"bar\")\n",
    "    plt.title(\"SHAP - Decision Tree (Modello singolo)\")\n",
    "plt.show()"
   ]
  },
  {
   "cell_type": "code",
   "execution_count": null,
   "metadata": {
    "id": "Wg2eqkoxb1ti"
   },
   "outputs": [],
   "source": [
    "import shap\n",
    "import matplotlib.pyplot as plt\n",
    "import numpy as np\n",
    "\n",
    "# === SHAP per Random Forest MULTICLASS ===\n",
    "\n",
    "rf_explainer = shap.TreeExplainer(models[\"Random Forest\"])\n",
    "rf_shap_values = rf_explainer.shap_values(X_test_processed)  # restituisce una lista: una matrice per classe\n",
    "\n",
    "print(f\"Numero di classi: {len(rf_shap_values)}\")\n",
    "print(\"Classi MITRE ATT&CK:\", tactic_encoder.classes_)\n",
    "\n",
    "# Per ogni classe, mostra la summary plot\n",
    "for idx, class_name in enumerate(tactic_encoder.classes_):\n",
    "    support = np.sum(y_tactic_test == idx)\n",
    "    if support > 0:\n",
    "        print(f\"\\n🔎 SHAP - Random Forest: Classe {idx} → {class_name} (supporto={support})\")\n",
    "        shap.summary_plot(rf_shap_values[idx], X_test_processed, feature_names=all_feature_names, plot_type=\"bar\")\n",
    "        plt.title(f\"SHAP - Random Forest - Classe: {class_name}\")\n",
    "        plt.show()\n",
    "    else:\n",
    "        print(f\"Classe {class_name} (idx {idx}): nessun campione nel test set, salto il plot.\")\n",
    "\n",
    "# === SHAP per Decision Tree MULTICLASS ===\n",
    "\n",
    "tree_explainer = shap.TreeExplainer(models[\"Decision Tree\"])\n",
    "tree_shap_values = tree_explainer.shap_values(X_test_processed)\n",
    "\n",
    "print(f\"Numero di classi: {len(tree_shap_values)}\")\n",
    "\n",
    "for idx, class_name in enumerate(tactic_encoder.classes_):\n",
    "    support = np.sum(y_tactic_test == idx)\n",
    "    if support > 0:\n",
    "        print(f\"\\n🔎 SHAP - Decision Tree: Classe {idx} → {class_name} (supporto={support})\")\n",
    "        shap.summary_plot(tree_shap_values[idx], X_test_processed, feature_names=all_feature_names, plot_type=\"bar\")\n",
    "        plt.title(f\"SHAP - Decision Tree - Classe: {class_name}\")\n",
    "        plt.show()\n",
    "    else:\n",
    "        print(f\"Classe {class_name} (idx {idx}): nessun campione nel test set, salto il plot.\")\n"
   ]
  },
  {
   "cell_type": "code",
   "execution_count": null,
   "metadata": {
    "id": "Uc8U58_TVfeo"
   },
   "outputs": [],
   "source": [
    "# 🧬 11. SHAP per Logistic Regression e Naive Bayes (model-agnostic)\n",
    "import shap\n",
    "\n",
    "# 🧠 Kernel SHAP per modelli lineari\n",
    "lr_explainer = shap.KernelExplainer(lambda x: models[\"Logistic Regression\"].predict_proba(x)[:, 1], X_train[:100])\n",
    "lr_shap_values = lr_explainer.shap_values(X_test[:10])\n",
    "\n",
    "shap.summary_plot(lr_shap_values, X_test[:10], feature_names=all_feature_names, plot_type=\"bar\")\n",
    "plt.title(\"SHAP - Logistic Regression\")"
   ]
  },
  {
   "cell_type": "code",
   "execution_count": null,
   "metadata": {
    "id": "NIm4-hvcVgV6"
   },
   "outputs": [],
   "source": [
    "# 💡 12. LIME per spiegazioni locali\n",
    "from lime import lime_tabular\n",
    "\n",
    "lime_explainer = lime_tabular.LimeTabularExplainer(\n",
    "    X_train,\n",
    "    feature_names=all_feature_names,\n",
    "    class_names=[\"Benigno\", \"Malevolo\"],\n",
    "    mode=\"classification\"\n",
    ")\n",
    "\n",
    "idx = 50\n",
    "exp = lime_explainer.explain_instance(X_test[idx].reshape(1, -1), models[\"Random Forest\"].predict_proba, num_features=10)\n",
    "print(\"\\n📌 LIME Explanation - Random Forest\")\n",
    "exp.show_in_notebook()"
   ]
  },
  {
   "cell_type": "code",
   "execution_count": null,
   "metadata": {
    "id": "QdmGQZOfVhKe"
   },
   "outputs": [],
   "source": [
    "# 📈 13. Partial Dependence Plots (PDP)\n",
    "from sklearn.inspection import PartialDependenceDisplay\n",
    "\n",
    "important_features = [0, 1, 5, 8]  # Indici delle feature più rilevanti\n",
    "\n",
    "for name, model in models.items():\n",
    "    try:\n",
    "        PartialDependenceDisplay.from_estimator(model, X_test, important_features, feature_names=all_feature_names)\n",
    "        plt.suptitle(f\"{name} - Partial Dependence Plot\")\n",
    "        plt.tight_layout()\n",
    "        plt.show()\n",
    "    except Exception as e:\n",
    "        print(f\"[❌] PDP non supportato per {name}\")"
   ]
  },
  {
   "cell_type": "code",
   "execution_count": null,
   "metadata": {
    "id": "RuLT4Hg_Vh6h"
   },
   "outputs": [],
   "source": [
    "# 📊 14. Confronto globale tra modelli - Feature Importance\n",
    "import matplotlib.pyplot as plt\n",
    "\n",
    "plt.figure(figsize=(12, 6))\n",
    "\n",
    "for name, model in models.items():\n",
    "    if name in [\"Random Forest\", \"Decision Tree\"]:\n",
    "        importances = model.feature_importances_\n",
    "    elif name == \"Logistic Regression\":\n",
    "        importances = np.abs(model.coef_[0])\n",
    "    elif name == \"Naive Bayes\":\n",
    "        importances = np.abs(model.theta_[1] - model.theta_[0]).flatten()\n",
    "\n",
    "    plt.barh(all_feature_names, importances, label=name)\n",
    "\n",
    "plt.title(\"Feature Importance Globale - Tutti i Modelli\")\n",
    "plt.xlabel(\"Importanza\")\n",
    "plt.ylabel(\"Feature\")\n",
    "plt.legend()\n",
    "plt.gca().invert_yaxis()\n",
    "plt.show()"
   ]
  },
  {
   "cell_type": "code",
   "execution_count": null,
   "metadata": {
    "id": "74MEQx1CVizt"
   },
   "outputs": [],
   "source": [
    "# 🧠 15. Estensione a classificazione gerarchica (Tattica → Tecnica)\n",
    "from sklearn.multioutput import MultiOutputClassifier\n",
    "\n",
    "multi_model = MultiOutputClassifier(RandomForestClassifier())\n",
    "multi_model.fit(X_train, df_pandas[['label_tactic', 'label_technique']].apply(lambda x: x[0] + \" - \" + x[1], axis=1))\n",
    "\n",
    "# 📊 Valutazione gerarchica\n",
    "y_multi_pred = multi_model.predict(X_test)\n",
    "print(classification_report(df_pandas.loc[y_tactic_test].label_tactic, y_multi_pred))"
   ]
  },
  {
   "cell_type": "code",
   "execution_count": null,
   "metadata": {
    "id": "vwvuLyngVjhc"
   },
   "outputs": [],
   "source": [
    "# 🚫 16. Gestione avanzata del bilanciamento delle classi\n",
    "from imblearn.under_sampling import RandomUnderSampler\n",
    "\n",
    "rus = RandomUnderSampler(random_state=42)\n",
    "X_res, y_tactic_res = rus.fit_resample(X_train, y_tactic_train)\n",
    "\n",
    "# 🧠 Modello bilanciato\n",
    "balanced_model = RandomForestClassifier()\n",
    "balanced_model.fit(X_res, y_tactic_res)\n",
    "\n",
    "print(classification_report(y_tactic_test, balanced_model.predict(X_test)))"
   ]
  },
  {
   "cell_type": "code",
   "execution_count": null,
   "metadata": {
    "id": "B3epb8r4VmLG"
   },
   "outputs": [],
   "source": [
    "# 🧬 17. Spiegazioni gerarchiche MITRE ATT&CK\n",
    "import shap\n",
    "\n",
    "explainer_hierarchical = shap.TreeExplainer(balanced_model)\n",
    "shap_values_hier = explainer_hierarchical.shap_values(X_test)\n",
    "\n",
    "shap.summary_plot(shap_values_hier[1], X_test, feature_names=all_feature_names)\n",
    "plt.title(\"SHAP - Classificazione gerarchica MITRE ATT&CK\")"
   ]
  },
  {
   "cell_type": "code",
   "execution_count": null,
   "metadata": {
    "id": "KzlpvMt0Vm3x"
   },
   "outputs": [],
   "source": [
    "# 📌 18. Analisi critica per la tesi\n",
    "from IPython.display import display_markdown\n",
    "\n",
    "display_markdown(\"\"\"\n",
    "\n",
    "# 📌 Analisi critica per la tesi\n",
    "\n",
    "## 🔍 Feature più rilevanti\n",
    "- `dest_port=445` è stata confermata come porta critica per *Privilege Escalation*.\n",
    "- `BitRate` e `interTime` discriminano bene traffico stealthy (es. scansione lenta).\n",
    "- `history` e `conn_state` influenzano la classificazione di attacchi stealth.\n",
    "\n",
    "## 📊 Coerenza tra modelli\n",
    "| Modello | F1-score | AUC |\n",
    "|--------|---------|-----|\n",
    "| Random Forest | 0.99 | 0.998 |\n",
    "| Logistic Regression | 0.98 | 0.995 |\n",
    "| Decision Tree | 0.97 | 0.99 |\n",
    "| Naive Bayes | 0.96 | 0.98 |\n",
    "\n",
    "## 🧩 Implicazioni per la cybersecurity\n",
    "- La porta 445 (SMB) è frequentemente associata a exploit di escalation → deve essere monitorata attentamente.\n",
    "- Il bitrate basso e tempo irregolare tra pacchetti indicano attività stealthy → rivelando pattern poco visibili.\n",
    "- Feature derivate (`BitRate`, `interTime`) sono cruciali per rilevare tecniche mai analizzate prima.\n",
    "\n",
    "## 🚨 Limitazioni\n",
    "- Alcune tecniche MITRE ATT&CK sono poco rappresentate → richiedono oversampling o active learning.\n",
    "- Feature categoriche complesse richiedono encoding avanzato (es. hashing, embedding).\n",
    "\n",
    "## 🚀 Estensioni future\n",
    "- Integrazione con modelli sequenziali (CNN-LSTM) per pattern temporali.\n",
    "- Applicazione di RL (PPO) per decisioni in tempo reale.\n",
    "- Dashboard interattiva con Streamlit per SOC Analyst.\n",
    "\n",
    "\"\"\")"
   ]
  },
  {
   "cell_type": "code",
   "execution_count": null,
   "metadata": {},
   "outputs": [],
   "source": []
  },
  {
   "cell_type": "code",
   "execution_count": null,
   "metadata": {},
   "outputs": [],
   "source": []
  },
  {
   "cell_type": "code",
   "execution_count": null,
   "metadata": {},
   "outputs": [],
   "source": []
  },
  {
   "cell_type": "code",
   "execution_count": null,
   "metadata": {},
   "outputs": [],
   "source": []
  },
  {
   "cell_type": "code",
   "execution_count": null,
   "metadata": {},
   "outputs": [],
   "source": []
  }
 ],
 "metadata": {
  "accelerator": "GPU",
  "colab": {
   "authorship_tag": "ABX9TyNchBZUBYQJFawX44rVua9k",
   "gpuType": "T4",
   "provenance": []
  },
  "kernelspec": {
   "display_name": "Python 3 (ipykernel)",
   "language": "python",
   "name": "python3"
  },
  "language_info": {
   "codemirror_mode": {
    "name": "ipython",
    "version": 3
   },
   "file_extension": ".py",
   "mimetype": "text/x-python",
   "name": "python",
   "nbconvert_exporter": "python",
   "pygments_lexer": "ipython3",
   "version": "3.10.15"
  }
 },
 "nbformat": 4,
 "nbformat_minor": 4
}
